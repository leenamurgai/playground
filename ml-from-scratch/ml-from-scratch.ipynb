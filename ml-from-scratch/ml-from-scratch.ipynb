{
 "cells": [
  {
   "cell_type": "markdown",
   "metadata": {},
   "source": [
    "# Machine Learning Algorithms from Scratch\n",
    "\n",
    "## Contents\n",
    "\n",
    "1. K-means\n",
    "2. Gradient Descent\n",
    "3. Linear Regression\n",
    "4. Logistic Regression (Binary Classification, <span style=\"color:red\">Multiclass Classification</span>)\n",
    "5. Principal Components Analysis\n",
    "6. K Nearest Neighbours\n",
    "7. Decision Trees (Optimise over features <span style=\"color:red\">and threshholds</span>)\n",
    "8. <span style=\"color:red\">Support Vector Machine</span>"
   ]
  },
  {
   "cell_type": "code",
   "execution_count": 1,
   "metadata": {},
   "outputs": [
    {
     "name": "stdout",
     "output_type": "stream",
     "text": [
      "Populating the interactive namespace from numpy and matplotlib\n",
      "3.7.3 (default, Mar 27 2019, 16:54:48) \n",
      "[Clang 4.0.1 (tags/RELEASE_401/final)]\n"
     ]
    }
   ],
   "source": [
    "import numpy as np\n",
    "import pandas as pd\n",
    "import matplotlib.pyplot as plt\n",
    "import seaborn as sns\n",
    "%pylab inline\n",
    "\n",
    "from IPython.display import display\n",
    "\n",
    "print (sys.version)"
   ]
  },
  {
   "cell_type": "markdown",
   "metadata": {},
   "source": [
    "## 1. K-means\n",
    "\n",
    "We have a set of unlabelled data. We want to find clusters in the data. In particular we want to finud the cluster centres and assign every data point to a cluster.\n",
    "\n",
    "### Algorithm:\n",
    "\n",
    "- Randomly define k cluster centres (must choose k).\n",
    "- Assign each data point to the nearest cluster centre.\n",
    "- Iteratively:\n",
    "  1. Re-calculate the cluster centres as the Euclidean mean of the members of each cluster.\n",
    "  2. Assign each data point to the nearest cluster centre.\n",
    "  3. Calculate the number of labels that changed.\n",
    "  4. When the labels stop changing we are done."
   ]
  },
  {
   "cell_type": "code",
   "execution_count": 2,
   "metadata": {},
   "outputs": [],
   "source": [
    "class Kmeans:\n",
    "    def __init__(self, data, k = 2):\n",
    "        self.data = data\n",
    "        self.n_data, self.n_features = data.shape\n",
    "        self.tol = 0.01\n",
    "\n",
    "    def get_initial_centres(self, k, debug = True, seed = -1):\n",
    "        if debug:\n",
    "            return data[:k,:]\n",
    "        if seed > 0:\n",
    "            np.random.seed(seed)\n",
    "        c_idx = np.random.choice(self.n_data, k, replace=False)\n",
    "        return data[c_idx,:]\n",
    "    \n",
    "    def distances_from_centres(self, centres, p):\n",
    "        return np.sqrt(np.sum((p-centres)*(p-centres), axis=1))\n",
    "\n",
    "    def nearest_cluster(self, centres):\n",
    "        cluster_labels = np.zeros((self.n_data,1))\n",
    "        for di in range(self.n_data):\n",
    "            cluster_labels[di,0] = np.argmin(self.distances_from_centres(centres, self.data[di,:]))\n",
    "        return cluster_labels\n",
    "\n",
    "    def calculate_cluster_centres(self, k, cluster_labels):\n",
    "        centres = np.zeros((k, self.n_features))\n",
    "        for c in range(k):\n",
    "            n_pts = np.sum(cluster_labels == c)\n",
    "            # Don't move the point if no data points are assigned to the cluster (prevents division by zero)\n",
    "            if n_pts > 1:\n",
    "                centres[c,:] = np.sum((cluster_labels == c)*self.data, axis=0) / n_pts\n",
    "        return centres\n",
    "    \n",
    "    def find_cluster_centres(self, initial_centres, max_iterations = 20):\n",
    "        \n",
    "        centres = np.copy(initial_centres)\n",
    "        k = centres.shape[0]\n",
    "        labels = np.zeros((self.n_data,1))\n",
    "        \n",
    "        for i in range(max_iterations):\n",
    "            \n",
    "            # Assign each data point to the closest cluster centre\n",
    "            new_labels = self.nearest_cluster(centres)\n",
    "\n",
    "            # Calculate the new cluster centres (mean of all points in each cluster)\n",
    "            new_centres = self.calculate_cluster_centres(k, new_labels)\n",
    "\n",
    "            # Calculate the number of labels that changed\n",
    "            n_labels_changed = self.n_data - np.sum(new_labels==labels)\n",
    "\n",
    "            # Calculate the max change in the distance between cluster centres\n",
    "            #max_centre_change = np.max(self.distances_from_centres(centres, new_centres))\n",
    "            #print(\"label:\", n_label_changed, \"centre: \", max_centre_change)\n",
    "            \n",
    "            if n_labels_changed == 0:\n",
    "                print(\"converged in {} iterations\".format(i))\n",
    "                break\n",
    "            \n",
    "            centres = np.copy(new_centres)\n",
    "            labels = np.copy(new_labels)\n",
    "            \n",
    "        return centres, new_labels"
   ]
  },
  {
   "cell_type": "code",
   "execution_count": 3,
   "metadata": {},
   "outputs": [
    {
     "name": "stdout",
     "output_type": "stream",
     "text": [
      "Intial centres\n",
      "[[-3.63744959  1.9586027 ]\n",
      " [-1.31599867 -2.35340998]\n",
      " [-0.95991085 -2.91844004]\n",
      " [-3.89526695  2.08972912]]\n",
      "converged in 6 iterations\n",
      "Final centres\n",
      "[[ 2.1858432   2.03485541]\n",
      " [-1.89125317 -1.80856091]\n",
      " [ 2.05373119 -1.88840285]\n",
      " [-2.13477223  2.02228883]]\n"
     ]
    },
    {
     "data": {
      "image/png": "[encoded data removed]",
      "text/plain": [
       "<Figure size 432x288 with 1 Axes>"
      ]
     },
     "metadata": {
      "needs_background": "light"
     },
     "output_type": "display_data"
    }
   ],
   "source": [
    "\"\"\"Set-up some data\"\"\"\n",
    "np.random.seed(1)\n",
    "x = 2\n",
    "data1 = np.random.normal(size=(100, 2)) + [ x, x]\n",
    "data2 = np.random.normal(size=(100, 2)) + [ x,-x]\n",
    "data3 = np.random.normal(size=(100, 2)) + [-x,-x]\n",
    "data4 = np.random.normal(size=(100, 2)) + [-x, x]\n",
    "data  = np.concatenate((data1, data2, data3, data4))\n",
    "np.random.shuffle(data)\n",
    "\n",
    "\"\"\"Set-up our Kmeans object\"\"\"\n",
    "my_kmeans = Kmeans(data)\n",
    "initial_centres = my_kmeans.get_initial_centres(4)\n",
    "\n",
    "print('Intial centres')\n",
    "print(initial_centres)\n",
    "\n",
    "\"\"\"Plot the initial centres\"\"\"\n",
    "plt.xlabel('x1')\n",
    "plt.ylabel('x2')\n",
    "ax = plt.scatter(initial_centres[:,0], initial_centres[:,1])\n",
    "\n",
    "\"\"\"Find the cluster centres using Kmeans\"\"\"\n",
    "centres, labels = my_kmeans.find_cluster_centres(initial_centres)\n",
    "print(\"Final centres\")\n",
    "print(centres)\n",
    "\n",
    "\"\"\"Plot the data clusters given by Kmeans\"\"\"\n",
    "dataa = data[np.where(labels[:,0] == 0)]\n",
    "datab = data[np.where(labels[:,0] == 1)]\n",
    "datac = data[np.where(labels[:,0] == 2)]\n",
    "datad = data[np.where(labels[:,0] == 3)]\n",
    "\n",
    "ax = plt.scatter(dataa[:,0], dataa[:,1])\n",
    "ax = plt.scatter(datab[:,0], datab[:,1])\n",
    "ax = plt.scatter(datac[:,0], datac[:,1])\n",
    "ax = plt.scatter(datad[:,0], datad[:,1])\n",
    "ax = plt.scatter(centres[:,0], centres[:,1])"
   ]
  },
  {
   "cell_type": "markdown",
   "metadata": {},
   "source": [
    "## 2. Gradient Descent\n",
    "\n",
    "We have a function ```f(x)``` we are trying to find the minima of. We know the gradient of ```f(x)``` i.e. ```f'(x)```. We use the gradient to interatively take steps size a downhill.\n",
    "\n",
    "- Start with an initial guess ```x = x0```.\n",
    "- Our new guess is ```x1 = x0 - a * f'(x0)``` where a is the learning rate.\n",
    "- We stop when the changes in f(x) from one x to the next become small."
   ]
  },
  {
   "cell_type": "code",
   "execution_count": 4,
   "metadata": {},
   "outputs": [],
   "source": [
    "class GradientDescent:\n",
    "    def __init__(self, cost_function, learning_rate = 0.1, tol = 0.01, max_iter = 10):\n",
    "        # cost_function should have the methods value and delta\n",
    "        self.cost = cost_function\n",
    "        self.alpha = learning_rate\n",
    "        self.tol = tol\n",
    "        self.max_iter = max_iter\n",
    "        \n",
    "    def find_minima(self, initial_params):\n",
    "        params = np.copy(initial_params)\n",
    "        val = self.cost.value(params)\n",
    "        cost = [val]\n",
    "        for i in range(self.max_iter):\n",
    "            new_params = params - self.alpha * self.cost.delta(params)\n",
    "            new_val = self.cost.value(new_params)\n",
    "            cost.append(new_val)\n",
    "            if np.abs(new_val - val) < self.tol:\n",
    "                print('converged in {} iterations'.format(i))\n",
    "                break\n",
    "            params = np.copy(new_params)\n",
    "            val = np.copy(new_val)\n",
    "        return new_params, cost"
   ]
  },
  {
   "cell_type": "markdown",
   "metadata": {},
   "source": [
    "## 3. Linear Regression\n",
    "\n",
    "We have some data ```{x, y}```. We want to find a line of best fit ```y_hat = Ax```. To do this we minimise the sum of sq diffs between ```y``` and ```y_hat```.\n",
    "\n",
    "- Start with a guess for A (A0).\n",
    "- Calculate ```y_hat = A0 x```.\n",
    "- Cost function is mean sq differences: ```mean[(y-y_hat)*(y-y_hat)]```.\n",
    "- Gradient of the cost function is: ```2*mean[(y-y_hat)*x, axis=1].T```.\n",
    "- Minimise the cost using gradient descent to find the A that gives the best fit."
   ]
  },
  {
   "cell_type": "code",
   "execution_count": 5,
   "metadata": {},
   "outputs": [],
   "source": [
    "class LinearFunction:\n",
    "    \"\"\"Form: y = Ax\"\"\"\n",
    "    def __init__(self, x, y):\n",
    "        self.n_feat, self.n_data = x.shape\n",
    "        self.x = np.concatenate((np.ones((1, self.n_data)), x), axis=0)\n",
    "        #params will be an n_feat + 1 dimensional vector\n",
    "        self.y = y\n",
    "    \n",
    "    def value(self, params):\n",
    "        return params.dot(self.x)\n",
    "\n",
    "    def deriv(self, params):\n",
    "        return self.x\n",
    "\n",
    "\n",
    "class MeanSumSqDiffs:\n",
    "    def __init__(self, y, func):\n",
    "        self.y = y\n",
    "        self.func = func\n",
    "        self.yhat = np.zeros_like(y)\n",
    "    \n",
    "    def value(self, params):\n",
    "        self.y_hat = self.func.value(params)\n",
    "        return np.mean((self.y - self.y_hat)*(self.y - self.y_hat))\n",
    "    \n",
    "    def delta(self, params):\n",
    "        dy_hat = self.func.deriv(params)\n",
    "        return 2 * np.transpose(np.mean((self.y_hat - self.y) * dy_hat, axis=1, keepdims=True))"
   ]
  },
  {
   "cell_type": "code",
   "execution_count": 6,
   "metadata": {
    "scrolled": false
   },
   "outputs": [
    {
     "name": "stdout",
     "output_type": "stream",
     "text": [
      "converged in 65 iterations\n"
     ]
    },
    {
     "data": {
      "image/png": "[encoded data removed]",
      "text/plain": [
       "<Figure size 432x288 with 1 Axes>"
      ]
     },
     "metadata": {
      "needs_background": "light"
     },
     "output_type": "display_data"
    }
   ],
   "source": [
    "\"\"\"Set-up some data\"\"\"\n",
    "m = 11\n",
    "step = 1.0 / (m - 1)\n",
    "x = np.reshape(np.arange(0, 1 + step, step), (1, m))\n",
    "np.random.seed(1)\n",
    "noise = 0.25 * np.random.randn(1, m)\n",
    "params = np.reshape(np.array([3, 4]), (1, 2))\n",
    "y = np.reshape(params[0][0] + params[0][1] * x + noise, (1, m))\n",
    "\n",
    "\"\"\"Plot the data\"\"\"\n",
    "ax = plt.scatter(x, y)\n",
    "\n",
    "\"\"\"Set-up classes and find the best params using GradientDescent\"\"\"\n",
    "linear_func = LinearFunction(x, y)\n",
    "cost_func = MeanSumSqDiffs(y, linear_func)\n",
    "grad_desc = GradientDescent(cost_func, learning_rate = 0.5, tol = 0.000001, max_iter = 100)\n",
    "params, cost = grad_desc.find_minima(np.reshape(np.array([1, 1]), (1, 2)))\n",
    "\n",
    "\"\"\"Plot our line of best fit\"\"\"\n",
    "yhat = linear_func.value(params)\n",
    "plt.xlabel('x')\n",
    "plt.ylabel('y')\n",
    "ax = plt.plot(np.transpose(x), np.transpose(yhat), 'red')"
   ]
  },
  {
   "cell_type": "code",
   "execution_count": 7,
   "metadata": {},
   "outputs": [
    {
     "data": {
      "image/png": "[encoded data removed]",
      "text/plain": [
       "<Figure size 432x288 with 1 Axes>"
      ]
     },
     "metadata": {
      "needs_background": "light"
     },
     "output_type": "display_data"
    }
   ],
   "source": [
    "\"\"\"Plot the cost\"\"\"\n",
    "start_index = 10\n",
    "plt.gcf().clear()\n",
    "plt.close()\n",
    "plt.xlabel('iterations')\n",
    "plt.ylabel('mean squared error')\n",
    "ax = plt.plot(list(range(start_index, len(cost), 1)), cost[start_index:])"
   ]
  },
  {
   "cell_type": "markdown",
   "metadata": {},
   "source": [
    "## 4. Logistic Regression\n",
    "\n",
    "### 4.1 Binary Classification\n",
    "\n",
    "- We want to find a decision boundary of the from ```Ax = 0``` where ```x = (1, xo, x1,..., xm)```.\n",
    "- The probability of a data point x having a positive label in our model is given by ```y_hat = sigmoid(Ax)```.\n",
    "- We find the ```A``` which best fits the data by maximising the liklihood of the data given the model which is equivalent to minimising the cross entropy.\n",
    "- We use gradient decent.\n",
    "- Cost function: ```mean[ -y*ln(y_hat) - (1-y)*ln(1-y_hat)]```.\n",
    "- Gradient of the cost function: ```(y_hat-y).dot(x.T) / n_data```."
   ]
  },
  {
   "cell_type": "code",
   "execution_count": 8,
   "metadata": {},
   "outputs": [],
   "source": [
    "class LogisticRegression:\n",
    "    def __init__(self, x, y):\n",
    "        self.n_feat, self.n_data = x.shape\n",
    "        self.x = np.concatenate((np.ones((1, self.n_data)), x), axis=0)\n",
    "        #params will be an n_feat + 1 dimensional vector\n",
    "        self.y = np.reshape(y, (1, self.n_data))\n",
    "        self.prob = np.zeros_like(y)\n",
    "    \n",
    "    def z(self, params):\n",
    "        \"\"\"Linear Function of Form: z = Ax\"\"\"\n",
    "        return params.dot(self.x)\n",
    "    \n",
    "    def value(self, params):\n",
    "        \"\"\"sigmoid(z), z = Ax\"\"\"\n",
    "        self.prob = 1.0 / (1.0 + np.exp(-self.z(params)))\n",
    "        return self.prob\n",
    "\n",
    "\n",
    "class CrossEntropy:\n",
    "    def __init__(self, y, func):\n",
    "        self.n_data = y.shape[0]\n",
    "        self.y = np.reshape(y, (1, self.n_data))\n",
    "        self.y_hat = np.zeros_like(y)\n",
    "        self.func = func\n",
    "    \n",
    "    def value(self, params):\n",
    "        self.y_hat = self.func.value(params)\n",
    "        return - np.mean( y*np.log(self.y_hat) + (1.0 - y)*np.log(1.0 - self.y_hat) )\n",
    "    \n",
    "    def delta(self, params):\n",
    "        return (self.y_hat - self.y).dot(np.transpose(self.func.x))/self.n_data"
   ]
  },
  {
   "cell_type": "code",
   "execution_count": 9,
   "metadata": {},
   "outputs": [
    {
     "name": "stdout",
     "output_type": "stream",
     "text": [
      "converged in 78 iterations\n",
      "[[-0.73458739  3.04377256  2.72099494]]\n"
     ]
    },
    {
     "data": {
      "image/png": "[encoded data removed]",
      "text/plain": [
       "<Figure size 432x288 with 1 Axes>"
      ]
     },
     "metadata": {
      "needs_background": "light"
     },
     "output_type": "display_data"
    }
   ],
   "source": [
    "\"\"\"Set-up some data\"\"\"\n",
    "\n",
    "np.random.seed(1)\n",
    "x = 1\n",
    "m = 200\n",
    "data1 = np.concatenate((np.random.normal(size=(int(m/2), 2)) + [ x, x], np.ones((int(m/2), 1))), axis=1)\n",
    "data2 = np.concatenate((np.random.normal(size=(int(m/2), 2)) + [-x, -x], np.zeros((int(m/2), 1))), axis=1)\n",
    "data  = np.concatenate((data1, data2))\n",
    "np.random.shuffle(data)\n",
    "#data_df = pd.DataFrame(data=data, columns=['x1', 'x2', 'y'])\n",
    "#display(data_df)\n",
    "y = data[:,2]\n",
    "#print(data[:,:2].shape)\n",
    "\n",
    "\"\"\"Plot the different classes\"\"\"\n",
    "plt.xlabel('x1')\n",
    "plt.ylabel('x2')\n",
    "ax = plt.scatter(data1[:,0], data1[:,1])\n",
    "ax = plt.scatter(data2[:,0], data2[:,1])\n",
    "\n",
    "\"\"\"Set-up our objects\"\"\"\n",
    "model_prob = LogisticRegression(np.transpose(data[:,:2]), y)\n",
    "cost_func = CrossEntropy(y, model_prob)\n",
    "grad_desc = GradientDescent(cost_func, learning_rate = 3, tol = 0.00001, max_iter = 10000)\n",
    "\n",
    "\"\"\"Pick an initial guess for a decision boundary and plot it\"\"\"\n",
    "params = [1.0, -1.0, 1.0]\n",
    "dbx = np.arange(-5, 6, 1)\n",
    "dby = -(params[0] + params[1]*dbx)/params[2]\n",
    "ax = plt.plot(dbx, dby)\n",
    "\n",
    "\"\"\"Find the best params using GradienDescent and plot the new decision boundary\"\"\"\n",
    "params, cost = grad_desc.find_minima(np.reshape(np.array(params), (1, 3)))\n",
    "print(params)\n",
    "dby = -(params[0][0] + params[0][1]*dbx)/params[0][2]\n",
    "ax = plt.plot(dbx, dby, 'red')\n",
    "\n",
    "\"\"\"Print the final params\"\"\"\n",
    "y_hat = model_prob.value"
   ]
  },
  {
   "cell_type": "code",
   "execution_count": 10,
   "metadata": {},
   "outputs": [
    {
     "data": {
      "image/png": "[encoded data removed]",
      "text/plain": [
       "<Figure size 432x288 with 1 Axes>"
      ]
     },
     "metadata": {
      "needs_background": "light"
     },
     "output_type": "display_data"
    }
   ],
   "source": [
    "\"\"\"Plot the cost\"\"\"\n",
    "start_index = 10\n",
    "plt.gcf().clear()\n",
    "plt.close()\n",
    "plt.xlabel('iterations')\n",
    "plt.ylabel('mean squared error')\n",
    "ax = plt.plot(list(range(start_index, len(cost), 1)), cost[start_index:])"
   ]
  },
  {
   "cell_type": "markdown",
   "metadata": {},
   "source": [
    "### 4.2 Multiclass Classification"
   ]
  },
  {
   "cell_type": "code",
   "execution_count": 11,
   "metadata": {},
   "outputs": [
    {
     "name": "stdout",
     "output_type": "stream",
     "text": [
      "To be continued...\n"
     ]
    }
   ],
   "source": [
    "\"\"\"\n",
    "class LogisticRegression:\n",
    "    def __init__(self, x, y, n_clases):\n",
    "        self.n_feat, self.n_data = x.shape\n",
    "        self.n_classes = n_clases\n",
    "        self.x = np.concatenate((np.ones((self.n_data, 1)), x), axis=1)\n",
    "        #params will be an n_feat + 1 dimensional vector\n",
    "        self.y = y\n",
    "            \n",
    "    \n",
    "    def z(self, params):\n",
    "        #Linear Function of Form: z = Ax\n",
    "        return params.dot(self.x)\n",
    "    \n",
    "    def value(self, params):\n",
    "        #softmax(z), z = Ax\n",
    "        ez = np.exp(self.z(params))\n",
    "        ez_sum = np.sum(ez, axis=1)\n",
    "        return ez / ez_sum\n",
    "\n",
    "    def deriv(self, params):\n",
    "        return pass\n",
    "\n",
    "\n",
    "class CrossEntropy:\n",
    "    def __init__(self, y, n_classes, func):\n",
    "        self.n_data = y.shape[1]\n",
    "        self.n_classes = n_classes\n",
    "        self.y = y\n",
    "        self.y_hat = np.zeros_like(y)\n",
    "        self.func = func\n",
    "    \n",
    "    def value(self, params):\n",
    "        y_hat = self.func.value(params)\n",
    "        # yhat is an n_classes X n_data\n",
    "        for i in range(self.n_data):\n",
    "            self.y_hat[i] = y_hat[self.y[i], i]\n",
    "        return -np.sum( np.log(self.yhat) )\n",
    "    \n",
    "    def delta(self, params):\n",
    "        dy_hat = self.func.deriv(params)\n",
    "        #print('testing', np.mean((self.y_hat - self.y) * dy_hat, axis=0, keepdims=True).shape)\n",
    "        return pass\n",
    "\"\"\"\n",
    "print('To be continued...')"
   ]
  },
  {
   "cell_type": "code",
   "execution_count": null,
   "metadata": {},
   "outputs": [],
   "source": []
  },
  {
   "cell_type": "markdown",
   "metadata": {},
   "source": [
    "## 5. Principal Components Analysis\n",
    "\n",
    "- We have unlabelled data.\n",
    "- We want to find a new co-ordinate system, such that our basis vectors (though still orthogonal) are directed in descending order of variance on our data, i.e. the first co-ordinate is in the direction of maximal variance, the second co-ordinate is in the direction of maximal variance (orthogonal to the first) and so on.\n",
    "\n",
    "### Algorithm\n",
    "\n",
    "1. Calculate the (n_feat x n_feat) covariance matrix for the data.\n",
    "2. Calculate the eigenvectors and eigenvalues of the covariance matrix - these are the basis vectors and corresponding variance in those directions.\n",
    "3. Sort the eigenvectors and eigenvalues in descending order of the size of the eigenvalues.\n",
    "\n",
    "Notes:\n",
    "\n",
    "- The ith eigenvalue tells how much variance there is in the direction of the ith eigenvector.\n",
    "- To transform data points from the original co-ordinate to the new we simply apply the transformation using the matrix of eigenvectors."
   ]
  },
  {
   "cell_type": "code",
   "execution_count": 12,
   "metadata": {},
   "outputs": [],
   "source": [
    "class PCA:\n",
    "    def __init__(self, X):\n",
    "        self.n_data, self.n_feat = X.shape\n",
    "        self.X = np.transpose(X)\n",
    "        self.mu = np.mean(self.X, axis=1, keepdims=1)\n",
    "        self.var = np.var(self.X, axis=1, keepdims=1, ddof=1)\n",
    "        self.eigenvalues, self.eigenvectors = self.sorted_eigens()\n",
    "        self.transformed_X = self.X.T.dot(self.eigenvectors)\n",
    "        \n",
    "    def calculation_checks(self):\n",
    "        print('\\ncorrelation matrix check (rho = {}):'.format(rho))\n",
    "        print(np.cov(self.X - self.mu)/np.sqrt(self.var[0]*self.var[1]))\n",
    "        \n",
    "        print('\\nmean:')\n",
    "        print(self.mu.T)\n",
    "        print('transformed mean:')\n",
    "        print(self.mu.T.dot(self.eigenvectors))\n",
    "        print('transformed data mean:')\n",
    "        print(np.mean(self.transformed_X, axis=0))\n",
    "        \n",
    "        print('\\nvariance:')\n",
    "        print(self.var.T, np.sum(self.var))\n",
    "        print('transformed data variance:')\n",
    "        print(np.var(self.transformed_X, axis=0, ddof=1), np.sum(np.var(self.transformed_X, axis=0, ddof=1)))\n",
    "        print('eigenvalues:')\n",
    "        print(self.eigenvalues, np.sum(self.eigenvalues))\n",
    "        print('eigenvectors:')\n",
    "        print(self.eigenvectors)\n",
    "        \n",
    "        print('\\nexplained variance:')\n",
    "        print(self.explained_variance())\n",
    "    \n",
    "    def sorted_eigens(self):\n",
    "        vals, vecs = np.linalg.eig(np.cov(self.X - self.mu))\n",
    "        index_order = vals.argsort()[::-1]\n",
    "        return vals[index_order], vecs[:,index_order]\n",
    "    \n",
    "    def explained_variance(self):\n",
    "        total_var = sum(self.eigenvalues)\n",
    "        return [val / total_var for val in self.eigenvalues]"
   ]
  },
  {
   "cell_type": "code",
   "execution_count": 13,
   "metadata": {},
   "outputs": [
    {
     "name": "stdout",
     "output_type": "stream",
     "text": [
      "rho =  0.8 , sqrt(1-rho^2) =  0.5999999999999999\n",
      "\n",
      "correlation matrix check (rho = 0.8):\n",
      "[[1.06411064 0.7729556 ]\n",
      " [0.7729556  0.93975191]]\n",
      "\n",
      "mean:\n",
      "[[2.07531502 2.07591412]]\n",
      "transformed mean:\n",
      "[[2.93298138 0.11820359]]\n",
      "transformed data mean:\n",
      "[2.93298138 0.11820359]\n",
      "\n",
      "variance:\n",
      "[[0.95602214 0.84429531]] 1.8003174522884442\n",
      "transformed data variance:\n",
      "[1.59684361 0.20347384] 1.8003174522884442\n",
      "eigenvalues:\n",
      "[1.59684361 0.20347384] 1.8003174522884446\n",
      "eigenvectors:\n",
      "[[ 0.73490973 -0.67816494]\n",
      " [ 0.67816494  0.73490973]]\n",
      "\n",
      "explained variance:\n",
      "[0.8869789079194753, 0.1130210920805246]\n"
     ]
    },
    {
     "data": {
      "image/png": "[encoded data removed]",
      "text/plain": [
       "<Figure size 432x288 with 1 Axes>"
      ]
     },
     "metadata": {
      "needs_background": "light"
     },
     "output_type": "display_data"
    }
   ],
   "source": [
    "\"\"\"Set-up some data and plot it\"\"\"\n",
    "\n",
    "np.random.seed(1)\n",
    "m = 200\n",
    "rho = 0.8\n",
    "print('rho = ', rho, ', sqrt(1-rho^2) = ', np.sqrt(1.0 - rho*rho))\n",
    "data = np.random.normal(size=(m, 2))\n",
    "data[:,1] = rho*data[:,0] + np.sqrt(1.0-rho*rho)*data[:,1]\n",
    "data = data + 2.0\n",
    "plt.xlabel('x1')\n",
    "plt.ylabel('x2')\n",
    "ax = plt.scatter(data[:,0], data[:,1])\n",
    "\n",
    "\"\"\"Do PCA and do some checks on the results\"\"\"\n",
    "my_PCA = PCA(data)\n",
    "my_PCA.calculation_checks()"
   ]
  },
  {
   "cell_type": "code",
   "execution_count": 14,
   "metadata": {},
   "outputs": [
    {
     "data": {
      "image/png": "[encoded data removed]",
      "text/plain": [
       "<Figure size 432x288 with 1 Axes>"
      ]
     },
     "metadata": {
      "needs_background": "light"
     },
     "output_type": "display_data"
    }
   ],
   "source": [
    "\"\"\"Plot the data in transformed space\"\"\"\n",
    "new_data = my_PCA.transformed_X\n",
    "plt.gcf().clear()\n",
    "plt.close()\n",
    "plt.xlabel('x1')\n",
    "plt.ylabel('x2')\n",
    "ax = plt.scatter(new_data[:,0], new_data[:,1])"
   ]
  },
  {
   "cell_type": "markdown",
   "metadata": {},
   "source": [
    "## 6. K Nearest Neighbours\n",
    "\n",
    "We have a set of labelled data ```{x, y}```. KNN is an instance based model which for any input ```x0``` predicts the output ```y0``` as the mean output of the k nearest input data points."
   ]
  },
  {
   "cell_type": "code",
   "execution_count": 39,
   "metadata": {},
   "outputs": [],
   "source": [
    "def euc_dists(x, p):\n",
    "    return np.sqrt(np.sum((x-p)*(x-p), axis=1))\n",
    "\n",
    "def cos_dists(x, p):\n",
    "    return x*p / (euc_dist(x, np.zeros_like(p))*euc_dist(p, np.zeros_like(p)))\n",
    "    \n",
    "class KNN:\n",
    "    def __init__(self, x, y):\n",
    "        assert x.shape[0]== y.shape[0], 'KNN __init__: mismatched data sizes'\n",
    "        self.x, self.y = x, y\n",
    "        self.n_data = x.shape[0]\n",
    "        self.n_y = y.shape[1]\n",
    "    \n",
    "    def predict(self, xs, k, dists):\n",
    "        n_xs = xs.shape[0]\n",
    "        predictions = np.ones((n_xs, self.n_y))\n",
    "        for i in range(n_xs):\n",
    "            k_indices = np.argsort(dists(self.x, xs[i,:]))[:k]\n",
    "            knn = self.y[k_indices, :]\n",
    "            if self.n_y == 1: predictions[i,:] = np.mean(knn)\n",
    "            else:             predictions[i,:] = np.mean(knn, axis=1)\n",
    "        print('nearest xs, nearest ys')\n",
    "        print(np.concatenate((self.x[k_indices], knn), axis=1))\n",
    "        return predictions"
   ]
  },
  {
   "cell_type": "code",
   "execution_count": 40,
   "metadata": {},
   "outputs": [
    {
     "name": "stdout",
     "output_type": "stream",
     "text": [
      "nearest xs, nearest ys\n",
      "[[-2.73914174  0.51031498 -1.73787473]\n",
      " [-2.51492462  0.81462501 -1.1321615 ]\n",
      " [-2.5822348   0.52339028 -0.85602195]\n",
      " [-2.69891898  0.28628856 -2.08910565]\n",
      " [-2.41020213  0.2617543  -2.02583533]]\n",
      "xs, ys\n",
      "[[-2.85106954  0.82312342 -1.56819983]]\n"
     ]
    }
   ],
   "source": [
    "\"\"\"Set-up some data\"\"\"\n",
    "np.random.seed(1)\n",
    "m = 2000\n",
    "rho = np.array([0.6, 0.2])\n",
    "data = np.random.normal(size=(m, 3))\n",
    "data[:,2] = rho[0]*data[:,0] + rho[1]*data[:,1] + np.sqrt(1.0-np.sum(rho*rho))*data[:,2]\n",
    "\n",
    "\"\"\"Pick some xs to make predictions for\"\"\"\n",
    "xs = np.random.normal(size=(1, 2))\n",
    "\n",
    "\"\"\"Set-up the KNN object and predict the ys for our xs\"\"\"\n",
    "my_knn = KNN(data[:,:2], data[:,2].reshape((m, 1)))\n",
    "ys = my_knn.predict(xs, 5, euc_dists)\n",
    "\n",
    "\"\"\"Print the xs and ys next to each other\"\"\"\n",
    "print('xs, ys')\n",
    "print(np.concatenate((xs, ys), axis=1))"
   ]
  },
  {
   "cell_type": "markdown",
   "metadata": {},
   "source": [
    "## 7. Decision Tree\n",
    "\n",
    "- We have a set of labelled data ```{x, y}```.\n",
    "- Decision Trees are binary trees which partition data at each node based on a threshold on an input feature.\n",
    "- At each node, the feature and the threshold at which to split the data on are chosen in training using a greedy optimization which seeks to minimise some cost.\n",
    "- The tree should be grown to the fullest extent and then pruned to prevent overfitting.\n",
    "- For both binary classification and regression the prediction is given by the mean ```y```. For binary classification the output is the probability, ```P(y = 1)```, for regression the predicted output is the expected value, ```E(y)```.\n",
    "\n",
    "We implement a simplified version of the decision tree:\n",
    "- Instead of optimising over both the threshold and feature on which we split the data, for each feature we fix threshold as the median value and optimise only over which feature to split on.\n",
    "- To control the complexity of the representation, instead of pruning the tree after building it, we specify the maximum depth of the tree"
   ]
  },
  {
   "cell_type": "code",
   "execution_count": 28,
   "metadata": {
    "scrolled": false
   },
   "outputs": [],
   "source": [
    "def entropy(y):\n",
    "    \"\"\"y is binary\"\"\"\n",
    "    p = np.mean(y)\n",
    "    if p == 0 or p == 1:\n",
    "        return 0\n",
    "    return - p * np.log2(p) - (1.0 - p) * np.log2(1.0 - p)\n",
    "\n",
    "def gini_idx(y):\n",
    "    \"\"\"y is binary\"\"\"\n",
    "    p = np.mean(y)\n",
    "    return 1 - p*p - (1.0 - p)*(1.0 - p)\n",
    "\n",
    "def mean_sq_diffs(y):\n",
    "    \"\"\"y is binary\"\"\"\n",
    "    y_bar = np.mean(y)\n",
    "    return np.mean( (y - y_bar)*(y - y_bar) )\n",
    "\n",
    "class Node:\n",
    "    def __init__(self, x, y, f_cost, pct_min=10, pct_max=90, n_pct=9):\n",
    "        self.x, self.y = x, y\n",
    "        self.n_data, self.n_feat = x.shape\n",
    "        self.f_cost, self.cost = f_cost, f_cost(y)\n",
    "        self.pct_min, self.pct_max = pct_min, pct_max\n",
    "        self.n_pct = n_pct\n",
    "        self.thresholds = self._thresholds(pct_min, pct_max, n_pct)\n",
    "        self.feature, self.threshold = self.best_feature_split()\n",
    "        self.y_pred = np.mean(y)\n",
    "        self.left = None\n",
    "        self.right = None\n",
    "    \n",
    "    def set_child(self, side, x, y):\n",
    "        if side == 'left':\n",
    "            self.left  = Node(x, y, self.f_cost, self.pct_min, self.pct_max, self.n_pct)\n",
    "        if side == 'right':\n",
    "            self.right = Node(x, y, self.f_cost, self.pct_min, self.pct_max, self.n_pct)\n",
    "    \n",
    "    def _thresholds(self, pct_min, pct_max, n_pct):\n",
    "        thresholds = np.zeros((n_pct, self.n_feat))\n",
    "        for i, p in enumerate(np.linspace(pct_min, pct_max, n_pct)):\n",
    "            thresholds[i,:] = np.percentile(self.x, p, axis=0)\n",
    "        return thresholds\n",
    "    \n",
    "    def best_feature_split(self):\n",
    "        min_cost = self.cost\n",
    "        feature, threshold = -1, -1\n",
    "        for i in range(self.n_feat):\n",
    "            for t in range(self.n_pct):\n",
    "                left_idxs = self.x[:,i] <= self.thresholds[t, i]\n",
    "                left_y = self.y[left_idxs]\n",
    "                right_y = self.y[np.logical_not(left_idxs)]\n",
    "                p = left_y.shape[0] / self.n_data\n",
    "                new_cost = p * self.f_cost(left_y) + (1.0 - p) * self.f_cost(right_y)\n",
    "                if new_cost < min_cost:\n",
    "                    min_cost = new_cost\n",
    "                    feature = i\n",
    "                    threshold = self.thresholds[t, i]\n",
    "        #print('Best Split => n: {}, feat: {}, thld: {:4.3f}, cost: {}'.format(self.n_data, feature, threshold, min_cost))\n",
    "        return feature, threshold\n",
    "\n",
    "class DecisionTree:\n",
    "    def __init__(self, root, max_depth = 4):\n",
    "        self.root = root\n",
    "        self.max_depth = max_depth\n",
    "        self.build_tree(root, max_depth)\n",
    "    \n",
    "    def build_tree(self, node, depth):\n",
    "        #print('depth: {}, cost: {}'.format(depth, node.cost))\n",
    "        #print('\\nBuild Tree => n: {}, depth:{}, feat: {}, thld: {:4.3f}'.format(node.n_data, depth, node.feature, node.threshold))\n",
    "        if node.feature != -1 and depth > 0:\n",
    "            idxs = node.x[:, node.feature] <= node.threshold\n",
    "            node.set_child('left', node.x[idxs], node.y[idxs])\n",
    "            idxs = np.logical_not(idxs)\n",
    "            node.set_child('right', node.x[idxs], node.y[idxs])\n",
    "            self.build_tree( node.left, depth-1 )\n",
    "            self.build_tree( node.right, depth-1 )\n",
    "    \n",
    "    def predict(self, x):\n",
    "        y_preds = np.zeros(x.shape[0])\n",
    "        for i in range(x.shape[0]):\n",
    "            node = self.root\n",
    "            while not(node.left and node.right):\n",
    "                if x[i,node.feature] <= node.threshold:\n",
    "                    node = node.left\n",
    "                else:\n",
    "                    node = node.right\n",
    "            y_preds[i] = node.y_pred\n",
    "        return y_preds"
   ]
  },
  {
   "cell_type": "code",
   "execution_count": 29,
   "metadata": {},
   "outputs": [
    {
     "data": {
      "image/png": "[encoded data removed]",
      "text/plain": [
       "<Figure size 432x288 with 1 Axes>"
      ]
     },
     "metadata": {
      "needs_background": "light"
     },
     "output_type": "display_data"
    }
   ],
   "source": [
    "\"\"\"Set-up some data\"\"\"\n",
    "np.random.seed(1)\n",
    "x = 1\n",
    "m = 200\n",
    "data1 = np.concatenate((np.random.normal(size=(int(m/2), 2)) + [ x, x], np.ones((int(m/2), 1))), axis=1)\n",
    "data2 = np.concatenate((np.random.normal(size=(int(m/2), 2)) + [-x, -x], np.zeros((int(m/2), 1))), axis=1)\n",
    "data  = np.concatenate((data1, data2))\n",
    "np.random.shuffle(data)\n",
    "#data_df = pd.DataFrame(data=data, columns=['x1', 'x2', 'y'])\n",
    "#display(data_df)\n",
    "y = data[:,2]\n",
    "#print(data[:,:2].shape)\n",
    "\n",
    "\"\"\"Plot the different classes\"\"\"\n",
    "plt.xlabel('x1')\n",
    "plt.ylabel('x2')\n",
    "ax = plt.scatter(data1[:,0], data1[:,1])\n",
    "ax = plt.scatter(data2[:,0], data2[:,1])"
   ]
  },
  {
   "cell_type": "code",
   "execution_count": 31,
   "metadata": {},
   "outputs": [
    {
     "name": "stdout",
     "output_type": "stream",
     "text": [
      "Best Split => n: 200, feat: 0, thld: -0.377\n",
      "Best Split => n: 80, feat: 1, thld: -0.011\n",
      "Best Split => n: 120, feat: 1, thld: -0.400\n",
      "Best Split => n: 64, feat: -1, thld: -1.000\n",
      "Best Split => n: 16, feat: 0, thld: -0.866\n",
      "Best Split => n: 13, feat: -1, thld: -1.000\n",
      "Best Split => n: 3, feat: 1, thld: 0.197\n",
      "Best Split => n: 1, feat: -1, thld: -1.000\n",
      "Best Split => n: 2, feat: -1, thld: -1.000\n",
      "Best Split => n: 24, feat: 0, thld: 1.209\n",
      "Best Split => n: 96, feat: 1, thld: 0.799\n",
      "Best Split => n: 19, feat: 0, thld: 0.605\n",
      "Best Split => n: 5, feat: -1, thld: -1.000\n",
      "Best Split => n: 11, feat: -1, thld: -1.000\n",
      "Best Split => n: 8, feat: 0, thld: 0.979\n",
      "Best Split => n: 5, feat: 1, thld: -0.616\n",
      "Best Split => n: 3, feat: -1, thld: -1.000\n",
      "Best Split => n: 3, feat: 1, thld: -2.132\n",
      "Best Split => n: 2, feat: -1, thld: -1.000\n",
      "Best Split => n: 1, feat: -1, thld: -1.000\n",
      "Best Split => n: 2, feat: -1, thld: -1.000\n",
      "Best Split => n: 39, feat: 0, thld: -0.020\n",
      "Best Split => n: 57, feat: -1, thld: -1.000\n",
      "Best Split => n: 4, feat: 0, thld: -0.162\n",
      "Best Split => n: 35, feat: 1, thld: -0.074\n",
      "Best Split => n: 3, feat: -1, thld: -1.000\n",
      "Best Split => n: 1, feat: -1, thld: -1.000\n",
      "Best Split => n: 7, feat: 1, thld: -0.092\n",
      "Best Split => n: 28, feat: -1, thld: -1.000\n",
      "Best Split => n: 6, feat: 0, thld: 1.521\n",
      "Best Split => n: 1, feat: -1, thld: -1.000\n",
      "Best Split => n: 3, feat: -1, thld: -1.000\n",
      "Best Split => n: 3, feat: 0, thld: 2.051\n",
      "Best Split => n: 1, feat: -1, thld: -1.000\n",
      "Best Split => n: 2, feat: -1, thld: -1.000\n",
      "depth: 8, sum_sq_diffs: 0.00\n"
     ]
    },
    {
     "name": "stderr",
     "output_type": "stream",
     "text": [
      "/anaconda3/lib/python3.7/site-packages/numpy/core/fromnumeric.py:3118: RuntimeWarning: Mean of empty slice.\n",
      "  out=out, **kwargs)\n",
      "/anaconda3/lib/python3.7/site-packages/numpy/core/_methods.py:85: RuntimeWarning: invalid value encountered in double_scalars\n",
      "  ret = ret.dtype.type(ret / rcount)\n"
     ]
    },
    {
     "data": {
      "image/png": "[encoded data removed]",
      "text/plain": [
       "<Figure size 432x288 with 1 Axes>"
      ]
     },
     "metadata": {
      "needs_background": "light"
     },
     "output_type": "display_data"
    }
   ],
   "source": [
    "\"\"\"Set-up the tree\"\"\"\n",
    "root = Node(data[:, :2], y, entropy)\n",
    "max_depth = 8\n",
    "Dtree = DecisionTree(root, max_depth)\n",
    "\n",
    "\"\"\"Make predictions\"\"\"\n",
    "y_pred = Dtree.predict(data[:, :2])\n",
    "sum_sq_diffs = np.sum((y-y_pred)*(y-y_pred))\n",
    "print('depth: {}, sum_sq_diffs: {:4.2f}'.format(max_depth, sum_sq_diffs))\n",
    "\n",
    "threshold = 0.5\n",
    "plt.xlabel('x1')\n",
    "plt.ylabel('x2')\n",
    "ax = plt.scatter(data[y_pred >  threshold,0], data[y_pred >  threshold,1])\n",
    "ax = plt.scatter(data[y_pred <= threshold,0], data[y_pred <= threshold,1])"
   ]
  },
  {
   "cell_type": "code",
   "execution_count": 20,
   "metadata": {
    "scrolled": false
   },
   "outputs": [
    {
     "data": {
      "image/png": "[encoded data removed]",
      "text/plain": [
       "<Figure size 432x288 with 1 Axes>"
      ]
     },
     "metadata": {
      "needs_background": "light"
     },
     "output_type": "display_data"
    }
   ],
   "source": [
    "\"\"\"Set-up the tree\"\"\"\n",
    "root = Node(data[:, :2], y, entropy)\n",
    "sum_sq_diffs = []\n",
    "for max_depth in range(9):\n",
    "    Dtree = DecisionTree(root, max_depth)\n",
    "    \"\"\"Make predictions for a given depth\"\"\"\n",
    "    y_pred = Dtree.predict(data[:, :2])\n",
    "    sum_sq_diffs.append(np.sum((y-y_pred)*(y-y_pred)))\n",
    "\n",
    "plt.gcf().clear()\n",
    "plt.close()\n",
    "plt.xlabel('iterations')\n",
    "plt.ylabel('sum squared error')\n",
    "ax = plt.plot(list(range(9)), sum_sq_diffs)"
   ]
  },
  {
   "cell_type": "markdown",
   "metadata": {},
   "source": [
    "## 7. Support Vector Machine\n",
    "\n"
   ]
  },
  {
   "cell_type": "code",
   "execution_count": 21,
   "metadata": {},
   "outputs": [
    {
     "data": {
      "image/png": "[encoded data removed]",
      "text/plain": [
       "<Figure size 432x288 with 1 Axes>"
      ]
     },
     "metadata": {
      "needs_background": "light"
     },
     "output_type": "display_data"
    }
   ],
   "source": [
    "\"\"\"Set-up some data\"\"\"\n",
    "np.random.seed(1)\n",
    "x = 2\n",
    "m = 200\n",
    "data1 = np.concatenate((np.random.normal(size=(int(m/2), 2)) + [ x, x], np.ones((int(m/2), 1))), axis=1)\n",
    "data2 = np.concatenate((np.random.normal(size=(int(m/2), 2)) + [-x, -x], np.zeros((int(m/2), 1))), axis=1)\n",
    "data  = np.concatenate((data1, data2))\n",
    "np.random.shuffle(data)\n",
    "#data_df = pd.DataFrame(data=data, columns=['x1', 'x2', 'y'])\n",
    "#display(data_df)\n",
    "y = data[:,2]\n",
    "#print(data[:,:2].shape)\n",
    "\n",
    "\"\"\"Plot the different classes\"\"\"\n",
    "plt.xlabel('x1')\n",
    "plt.ylabel('x2')\n",
    "ax = plt.scatter(data1[:,0], data1[:,1])\n",
    "ax = plt.scatter(data2[:,0], data2[:,1])"
   ]
  },
  {
   "cell_type": "code",
   "execution_count": null,
   "metadata": {},
   "outputs": [],
   "source": []
  },
  {
   "cell_type": "code",
   "execution_count": null,
   "metadata": {},
   "outputs": [],
   "source": []
  },
  {
   "cell_type": "code",
   "execution_count": null,
   "metadata": {},
   "outputs": [],
   "source": []
  }
 ],
 "metadata": {
  "kernelspec": {
   "display_name": "Python 3",
   "language": "python",
   "name": "python3"
  },
  "language_info": {
   "codemirror_mode": {
    "name": "ipython",
    "version": 3
   },
   "file_extension": ".py",
   "mimetype": "text/x-python",
   "name": "python",
   "nbconvert_exporter": "python",
   "pygments_lexer": "ipython3",
   "version": "3.7.3"
  }
 },
 "nbformat": 4,
 "nbformat_minor": 2
}
