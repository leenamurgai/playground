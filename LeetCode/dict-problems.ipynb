{
 "cells": [
  {
   "cell_type": "markdown",
   "metadata": {},
   "source": [
    "# Dict Problems\n",
    "\n",
    "## [771. Jewels and Stones](https://leetcode.com/problems/jewels-and-stones/)\n",
    "\n",
    "### Easy\n",
    "\n",
    "You're given strings J representing the types of stones that are jewels, and S representing the stones you have.  Each character in S is a type of stone you have.  You want to know how many of the stones you have are also jewels.\n",
    "\n",
    "The letters in J are guaranteed distinct, and all characters in J and S are letters. Letters are case sensitive, so \"a\" is considered a different type of stone from \"A\".\n",
    "\n",
    "Example 1:\n",
    "\n",
    "    Input: J = \"aA\", S = \"aAAbbbb\"\n",
    "    Output: 3\n",
    "\n",
    "Example 2:\n",
    "\n",
    "    Input: J = \"z\", S = \"ZZ\"\n",
    "    Output: 0\n",
    "\n",
    "Note:\n",
    "\n",
    "S and J will consist of letters and have length at most 50.\n",
    "The characters in J are distinct.\n",
    "\n",
    "### Performance\n",
    "\n",
    "- Runtime: 20 ms, faster than 100.00% of Python online submissions for Jewels and Stones.\n",
    "- Memory Usage: 10.7 MB, less than 100.00% of Python online submissions for Jewels and Stones.\n",
    "\n",
    "### Complexity Analysis\n",
    "\n",
    "    O(n + m) in time.\n",
    "    O(1)     in space."
   ]
  },
  {
   "cell_type": "code",
   "execution_count": 1,
   "metadata": {},
   "outputs": [
    {
     "name": "stdout",
     "output_type": "stream",
     "text": [
      "Should print 3: 3\n",
      "Should print 0: 0\n"
     ]
    }
   ],
   "source": [
    "from collections import defaultdict\n",
    "\n",
    "class Solution(object):\n",
    "    def numJewelsInStones(self, J, S):\n",
    "        \"\"\"\n",
    "        :type J: str\n",
    "        :type S: str\n",
    "        :rtype: int\n",
    "        \"\"\"\n",
    "        jewel_dict = defaultdict(bool)\n",
    "        for j in J:\n",
    "            jewel_dict[j] = True\n",
    "            \n",
    "        num_jewels = 0\n",
    "        for s in S:\n",
    "            if jewel_dict[s]:\n",
    "                num_jewels += 1\n",
    "\n",
    "        return num_jewels\n",
    "\n",
    "my_sol = Solution()\n",
    "print(\"Should print 3:\", my_sol.numJewelsInStones(\"aA\", \"aAAbbbb\"))\n",
    "print(\"Should print 0:\", my_sol.numJewelsInStones(\"z\", \"ZZ\"))"
   ]
  },
  {
   "cell_type": "markdown",
   "metadata": {},
   "source": [
    "## [804. Unique Morse Code Words](https://leetcode.com/problems/unique-morse-code-words/)\n",
    "\n",
    "### Easy\n",
    "\n",
    "International Morse Code defines a standard encoding where each letter is mapped to a series of dots and dashes, as follows: \"a\" maps to \".-\", \"b\" maps to \"-...\", \"c\" maps to \"-.-.\", and so on.\n",
    "\n",
    "For convenience, the full table for the 26 letters of the English alphabet is given below:\n",
    "\n",
    "    [\".-\",\"-...\",\"-.-.\",\"-..\",\".\",\"..-.\",\"--.\",\"....\",\"..\",\".---\",\"-.-\",\".-..\",\"--\",\n",
    "     \"-.\",\"---\",\".--.\",\"--.-\",\".-.\",\"...\",\"-\",\"..-\",\"...-\",\".--\",\"-..-\",\"-.--\",\"--..\"]\n",
    "\n",
    "Now, given a list of words, each word can be written as a concatenation of the Morse code of each letter. For example, \"cba\" can be written as \"-.-..--...\", (which is the concatenation \"-.-.\" + \"-...\" + \".-\"). We'll call such a concatenation, the transformation of a word.\n",
    "\n",
    "Return the number of different transformations among all words we have.\n",
    "\n",
    "    Example:\n",
    "    Input: words = [\"gin\", \"zen\", \"gig\", \"msg\"]\n",
    "\n",
    "    Output: 2\n",
    "\n",
    "Explanation: The transformation of each word is:\n",
    "\n",
    "    \"gin\" -> \"--...-.\"\n",
    "    \"zen\" -> \"--...-.\"\n",
    "    \"gig\" -> \"--...--.\"\n",
    "    \"msg\" -> \"--...--.\"\n",
    "\n",
    "There are 2 different transformations, \"--...-.\" and \"--...--.\".\n",
    "\n",
    "Note:\n",
    "\n",
    "- The length of words will be at most 100.\n",
    "- Each words[i] will have length in range [1, 12].\n",
    "- words[i] will only consist of lowercase letters.\n",
    "\n",
    "### Performance\n",
    "\n",
    "- Runtime: 40 ms, faster than 64.65% of Python3 online submissions for Unique Morse Code Words.\n",
    "- Memory Usage: 13.1 MB, less than 5.36% of Python3 online submissions for Unique Morse Code Words.\n",
    "\n",
    "### Complexity Analysis\n",
    "\n",
    "- O(n) in time.\n",
    "- O(n) in space (at worst there are n morse codes I store in the morse_dict)."
   ]
  },
  {
   "cell_type": "code",
   "execution_count": 2,
   "metadata": {},
   "outputs": [
    {
     "name": "stdout",
     "output_type": "stream",
     "text": [
      "Should print 2: 2\n"
     ]
    }
   ],
   "source": [
    "from collections import defaultdict\n",
    "\n",
    "c_to_m = [\".-\",\"-...\",\"-.-.\",\"-..\",\".\",\"..-.\",\"--.\",\"....\",\"..\",\".---\",\"-.-\",\".-..\",\"--\",\n",
    "          \"-.\",\"---\",\".--.\",\"--.-\",\".-.\",\"...\",\"-\",\"..-\",\"...-\",\".--\",\"-..-\",\"-.--\",\"--..\"]\n",
    "\n",
    "class Solution:\n",
    "    def uniqueMorseRepresentations(self, words: 'List[str]') -> 'int':\n",
    "        morse_dict = defaultdict(bool)\n",
    "        n_codes = 0\n",
    "        for word in words:\n",
    "            word = word.lower()\n",
    "            morse = ''.join([ c_to_m[ord(letter)-ord('a')] for letter in word ])\n",
    "            if not morse_dict[morse]:\n",
    "                n_codes += 1\n",
    "            morse_dict[morse] = True\n",
    "        return n_codes\n",
    "    \n",
    "my_sol = Solution()\n",
    "print('Should print 2:', my_sol.uniqueMorseRepresentations([\"gin\", \"zen\", \"gig\", \"msg\"]))"
   ]
  },
  {
   "cell_type": "markdown",
   "metadata": {},
   "source": [
    "## [290. Word Pattern](https://leetcode.com/problems/word-pattern/)\n",
    "\n",
    "### Easy\n",
    "\n",
    "Given a pattern and a string str, find if str follows the same pattern.\n",
    "\n",
    "Here follow means a full match, such that there is a bijection between a letter in pattern and a non-empty word in str.\n",
    "\n",
    "Example 1:\n",
    "\n",
    "    Input: pattern = \"abba\", str = \"dog cat cat dog\"\n",
    "    Output: true\n",
    "\n",
    "Example 2:\n",
    "\n",
    "    Input: pattern = \"abba\", str = \"dog cat cat fish\"\n",
    "    Output: false\n",
    "\n",
    "Example 3:\n",
    "\n",
    "    Input: pattern = \"aaaa\", str = \"dog cat cat dog\"\n",
    "    Output: false\n",
    "\n",
    "Example 4:\n",
    "\n",
    "    Input: pattern = \"abba\", str = \"dog dog dog dog\"\n",
    "    Output: false\n",
    "\n",
    "Notes:\n",
    "\n",
    "You may assume pattern contains only lowercase letters, and str contains lowercase letters separated by a single space.\n",
    "\n",
    "### Performance\n",
    "\n",
    "- Runtime: 32 ms, faster than 99.90% of Python3 online submissions for Word Pattern.\n",
    "- Memory Usage: 12.3 MB, less than 100.00% of Python3 online submissions for Word Pattern.\n",
    "\n",
    "### Complexity Analysis\n",
    "\n",
    "    O(n) in time.\n",
    "    O(n) in space."
   ]
  },
  {
   "cell_type": "code",
   "execution_count": 3,
   "metadata": {},
   "outputs": [
    {
     "name": "stdout",
     "output_type": "stream",
     "text": [
      "Should print True: True\n",
      "Should print False: False\n",
      "Should print False: False\n",
      "Should print False: False\n"
     ]
    }
   ],
   "source": [
    "class Solution:\n",
    "    def wordPattern(self, pattern: 'str', string: 'str') -> 'bool':\n",
    "        words = string.split()\n",
    "        if len(pattern) != len(words):\n",
    "            return False\n",
    "        p_dict = {}\n",
    "        w_dict = {}\n",
    "        for i, p in enumerate(pattern):\n",
    "            if p in p_dict and p_dict[p] != words[i]:\n",
    "                return False\n",
    "            if not(p in p_dict):\n",
    "                if words[i] in w_dict:\n",
    "                    return False\n",
    "                else:\n",
    "                    p_dict[p] = words[i]\n",
    "                    w_dict[words[i]] = True\n",
    "        return True\n",
    "\n",
    "my_sol = Solution()\n",
    "print('Should print True:', my_sol.wordPattern('abba', 'dog cat cat dog'))\n",
    "print('Should print False:', my_sol.wordPattern('abba', 'dog cat cat fish'))\n",
    "print('Should print False:', my_sol.wordPattern('aaaa', 'dog cat cat dog'))\n",
    "print('Should print False:', my_sol.wordPattern('abba', 'dog dog dog dog'))"
   ]
  },
  {
   "cell_type": "markdown",
   "metadata": {},
   "source": [
    "## [389. Find the Difference](https://leetcode.com/problems/find-the-difference/)\n",
    "\n",
    "### Easy\n",
    "\n",
    "Given two strings s and t which consist of only lowercase letters.\n",
    "\n",
    "String t is generated by random shuffling string s and then add one more letter at a random position.\n",
    "\n",
    "Find the letter that was added in t.\n",
    "\n",
    "Example:\n",
    "\n",
    "    Input:\n",
    "    s = \"abcd\"\n",
    "    t = \"abcde\"\n",
    "\n",
    "    Output:\n",
    "    e\n",
    "\n",
    "Explanation:\n",
    "\n",
    "'e' is the letter that was added.\n",
    "\n",
    "### Performance\n",
    "\n",
    "- Runtime: 36 ms, faster than 99.62% of Python3 online submissions for Find the Difference.\n",
    "- Memory Usage: 12.5 MB, less than 100.00% of Python3 online submissions for Find the Difference.\n",
    "\n",
    "### Complexity Analysis\n",
    "\n",
    "    O(n) in time\n",
    "    O(n) in space"
   ]
  },
  {
   "cell_type": "code",
   "execution_count": 4,
   "metadata": {},
   "outputs": [
    {
     "name": "stdout",
     "output_type": "stream",
     "text": [
      "Should print e: e\n"
     ]
    }
   ],
   "source": [
    "from collections import Counter\n",
    "\n",
    "class Solution:\n",
    "    def findTheDifference(self, s: 'str', t: 'str') -> 'str':\n",
    "        s_count = Counter(s)\n",
    "        t_count = Counter(t)\n",
    "        for k, v in t_count.items():\n",
    "            if not(k in s_count):\n",
    "                return k\n",
    "            else:\n",
    "                if v != s_count[k]:\n",
    "                    return k\n",
    "                \n",
    "my_sol = Solution()\n",
    "print('Should print e:', my_sol.findTheDifference('abcd', 'abcde'))"
   ]
  },
  {
   "cell_type": "markdown",
   "metadata": {},
   "source": [
    "## [347. Top K Frequent Elements](https://leetcode.com/problems/top-k-frequent-elements/)\n",
    "\n",
    "### Medium\n",
    "\n",
    "Given a non-empty array of integers, return the k most frequent elements.\n",
    "\n",
    "Example 1:\n",
    "\n",
    "    Input: nums = [1,1,1,2,2,3], k = 2\n",
    "    Output: [1,2]\n",
    "\n",
    "Example 2:\n",
    "\n",
    "    Input: nums = [1], k = 1\n",
    "    Output: [1]\n",
    "\n",
    "Note:\n",
    "\n",
    "- You may assume k is always valid, 1 ≤ k ≤ number of unique elements.\n",
    "- Your algorithm's time complexity must be better than O(n log n), where n is the array's size.\n",
    "\n",
    "### Performance\n",
    "\n",
    "- Runtime: 44 ms, faster than 99.93% of Python3 online submissions for Top K Frequent Elements.\n",
    "- Memory Usage: 15.4 MB, less than 100.00% of Python3 online submissions for Top K Frequent Elements.\n",
    "\n",
    "### Complexity Analysis\n",
    "\n",
    "    O(n log n) in time\n",
    "    O(n) in space"
   ]
  },
  {
   "cell_type": "code",
   "execution_count": 5,
   "metadata": {},
   "outputs": [
    {
     "name": "stdout",
     "output_type": "stream",
     "text": [
      "Should print [1, 2]: [1, 2]\n"
     ]
    }
   ],
   "source": [
    "from collections import Counter\n",
    "\n",
    "class Solution:\n",
    "    def topKFrequent(self, nums: 'List[int]', k: 'int') -> 'List[int]':\n",
    "        count = Counter(nums)\n",
    "        l_count = [(v, k) for k, v in count.items()]\n",
    "        l_count.sort(reverse=True)\n",
    "        return [k for (v, k) in l_count[:min(k, len(l_count))]]\n",
    "\n",
    "my_sol = Solution()\n",
    "print('Should print [1, 2]:', my_sol.topKFrequent([1,1,1,2,2,3], 2))"
   ]
  },
  {
   "cell_type": "markdown",
   "metadata": {},
   "source": [
    "## Coding Mock Interview (3.30pm 4 Apr 2019)\n",
    "\n",
    "## Given two dictionaries find the differences, if there are none return None"
   ]
  },
  {
   "cell_type": "code",
   "execution_count": 6,
   "metadata": {},
   "outputs": [
    {
     "name": "stdout",
     "output_type": "stream",
     "text": [
      "False\n"
     ]
    }
   ],
   "source": [
    "def diff(arg1, arg2):\n",
    "    \"\"\"return first difference between the args if there is one,\n",
    "    else return None\"\"\"\n",
    "\n",
    "    # check if the types of arg1 and arg2 are the same\n",
    "    if type(arg1) != type(arg2):\n",
    "        return arg1, arg2\n",
    "\n",
    "    # if args aren't a list or a dict just compare\n",
    "    if type(arg1) != dict and type(arg1) != list:\n",
    "        if arg1 != arg2:\n",
    "            return arg1, arg2\n",
    "\n",
    "    # if type args are lists\n",
    "    if type(arg1) == list:\n",
    "        for idx, elt in ennumerate(arg1):\n",
    "            if diff(elt, arg2[idx]) != None:\n",
    "                return diff(elt, arg2[idx])\n",
    "\n",
    "    # if type args are dicts\n",
    "    if type(arg1) == dict:\n",
    "        if diff(list(arg1.keys()).sort(), list(arg2.keys()).sort()) != None:\n",
    "            return diff(list(arg1.keys()).sort(), list(arg2.keys()).sort())\n",
    "        for k, v in arg1.items():\n",
    "            if arg2[k] != v:\n",
    "                return arg1, arg2\n",
    "    return None\n",
    "\n",
    "\n",
    "my_dict = {'a':1, 'b':2}\n",
    "this_dict = {'c':2, 'd':3}\n",
    "print(my_dict==this_dict)\n"
   ]
  },
  {
   "cell_type": "markdown",
   "metadata": {},
   "source": [
    "## Coderpad Interview (6pm 25 Feb 2019)\n",
    "\n",
    "- You're writing a ransom note by clipping words out of a body of text (`anna_karenina.txt`).\n",
    "- Write efficient code to check whether a particular note can be clipped from the input text.\n",
    "\n"
   ]
  },
  {
   "cell_type": "code",
   "execution_count": null,
   "metadata": {},
   "outputs": [],
   "source": [
    "textFileString = 'a b c d e f'\n",
    "\n",
    "We note = 'Place $100,000 cash in a bag outside Liverpool Street Station at noon tomorrow'\n",
    "\n",
    "def checkWordsInFile(note):\n",
    "    listOfWords = note.split(' ')\n",
    "    print(listOfWords)\n",
    "    \n",
    "    #file = open('anna_karena.txt',mode='r')\n",
    "    #fileString = file.read()\n",
    "    #file.close()\n",
    "    \n",
    "    file_string = textFileString\n",
    "    words_in_txt_file = file_string.split(' ')\n",
    "    \n",
    "    for word in listOfWords:\n",
    "        if not(word in words_in_text_file)"
   ]
  },
  {
   "cell_type": "markdown",
   "metadata": {},
   "source": [
    "## [383. Ransom Note](https://leetcode.com/problems/ransom-note/)\n",
    "\n",
    "### Easy\n",
    "\n",
    "Given an arbitrary ransom note string and another string containing letters from all the magazines, write a function that will return true if the ransom note can be constructed from the magazines ; otherwise, it will return false.\n",
    "\n",
    "Each letter in the magazine string can only be used once in your ransom note.\n",
    "\n",
    "Note:\n",
    "You may assume that both strings contain only lowercase letters.\n",
    "\n",
    "    canConstruct(\"a\", \"b\") -> false\n",
    "    canConstruct(\"aa\", \"ab\") -> false\n",
    "    canConstruct(\"aa\", \"aab\") -> true"
   ]
  },
  {
   "cell_type": "code",
   "execution_count": null,
   "metadata": {},
   "outputs": [],
   "source": [
    "class Solution:\n",
    "    def canConstruct(self, ransomNote: str, magazine: str) -> bool:\n",
    "        "
   ]
  },
  {
   "cell_type": "code",
   "execution_count": null,
   "metadata": {},
   "outputs": [],
   "source": []
  },
  {
   "cell_type": "code",
   "execution_count": null,
   "metadata": {},
   "outputs": [],
   "source": []
  },
  {
   "cell_type": "code",
   "execution_count": null,
   "metadata": {},
   "outputs": [],
   "source": []
  },
  {
   "cell_type": "code",
   "execution_count": null,
   "metadata": {},
   "outputs": [],
   "source": []
  }
 ],
 "metadata": {
  "kernelspec": {
   "display_name": "Python 3",
   "language": "python",
   "name": "python3"
  },
  "language_info": {
   "codemirror_mode": {
    "name": "ipython",
    "version": 3
   },
   "file_extension": ".py",
   "mimetype": "text/x-python",
   "name": "python",
   "nbconvert_exporter": "python",
   "pygments_lexer": "ipython3",
   "version": "3.7.3"
  }
 },
 "nbformat": 4,
 "nbformat_minor": 2
}
